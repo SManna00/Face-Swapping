{
 "cells": [
  {
   "cell_type": "code",
   "execution_count": 1,
   "metadata": {},
   "outputs": [],
   "source": [
    "import cv2"
   ]
  },
  {
   "cell_type": "code",
   "execution_count": 2,
   "metadata": {},
   "outputs": [],
   "source": [
    "# load the pretrained cascade classifier\n",
    "#load image\n",
    "#run face detection\n",
    "#show faces\n",
    "\n",
    "face_cascade = cv2.CascadeClassifier('/Users/shalinimanna/Documents/face-detect/haarcascade_frontalface_default.xml')"
   ]
  },
  {
   "cell_type": "code",
   "execution_count": 3,
   "metadata": {},
   "outputs": [],
   "source": [
    "img=cv2.imread('/Users/shalinimanna/Documents/face-detect/obama.jpg')"
   ]
  },
  {
   "cell_type": "code",
   "execution_count": 4,
   "metadata": {},
   "outputs": [],
   "source": [
    "img_gray = cv2.cvtColor(img, cv2.COLOR_BGR2GRAY)\n",
    "#THIS CONVERTS to a grayscale image"
   ]
  },
  {
   "cell_type": "code",
   "execution_count": 5,
   "metadata": {},
   "outputs": [
    {
     "name": "stdout",
     "output_type": "stream",
     "text": [
      "[[102  37  73  73]\n",
      " [236  55  65  65]]\n"
     ]
    }
   ],
   "source": [
    "#running face detection\n",
    "#detectMultiScale(img,scale factor,number of neighbours)\n",
    "face_coords = face_cascade.detectMultiScale(img_gray, 1.1,9) #spatially reducing by 10%\n",
    "print(face_coords)"
   ]
  },
  {
   "cell_type": "code",
   "execution_count": null,
   "metadata": {},
   "outputs": [],
   "source": [
    "i=0\n",
    "for face_coord in  face_coords:\n",
    "    x,y,w,h = face_coord\n",
    "    #draw the rectangle on the main image\n",
    "    cv2.rectangle(img,(x,y),(x+w,y+h),(0,255,0),2)\n",
    "    face = img[y:y+h, x:x+w]\n",
    "    cv2.imshow('face{}'.format(i),face)\n",
    "    i+=1\n",
    "cv2.imshow('/Users/shalinimanna/Documents/face-detect/faces',img)\n",
    "cv2.waitKey(0)\n",
    "cv2.destroyAllWindows()\n",
    "\n"
   ]
  },
  {
   "cell_type": "code",
   "execution_count": null,
   "metadata": {},
   "outputs": [],
   "source": [
    "#eye detection\n",
    "eye_cascade = cv2.CascadeClassifier('/Users/shalinimanna/Documents/face-detect/haarcascade_eye.xml')"
   ]
  },
  {
   "cell_type": "code",
   "execution_count": null,
   "metadata": {},
   "outputs": [],
   "source": [
    "eye_coords = eye_cascade.detectMultiScale(img_gray,1.1,6)\n",
    "#showing the eye coordinates\n",
    "for eye_coord in eye_coords:\n",
    "    x,y,w,h = eye_coord\n",
    "    cv2.rectangle(img,(x,y),(x+w,y+h),(0,0,255),2)\n",
    "cv2.imshow('/Users/shalinimanna/Documents/face-detect/faces',img)\n",
    "cv2.waitKey(0)\n",
    "cv2.destroyAllWindows()"
   ]
  },
  {
   "cell_type": "code",
   "execution_count": null,
   "metadata": {},
   "outputs": [],
   "source": [
    "#min neighbours increased to ensure decline in false positives"
   ]
  }
 ],
 "metadata": {
  "kernelspec": {
   "display_name": "Python 3",
   "language": "python",
   "name": "python3"
  },
  "language_info": {
   "codemirror_mode": {
    "name": "ipython",
    "version": 3
   },
   "file_extension": ".py",
   "mimetype": "text/x-python",
   "name": "python",
   "nbconvert_exporter": "python",
   "pygments_lexer": "ipython3",
   "version": "3.6.5"
  }
 },
 "nbformat": 4,
 "nbformat_minor": 2
}
